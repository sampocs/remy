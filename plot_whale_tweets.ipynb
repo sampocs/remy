{
 "cells": [
  {
   "cell_type": "code",
   "execution_count": 1,
   "metadata": {
    "ExecuteTime": {
     "end_time": "2021-05-29T23:11:37.327681Z",
     "start_time": "2021-05-29T23:11:36.831863Z"
    }
   },
   "outputs": [],
   "source": [
    "import os\n",
    "import pandas as pd\n",
    "import plotly.express as px\n",
    "import plotly.graph_objects as go\n",
    "from datetime import datetime"
   ]
  },
  {
   "cell_type": "code",
   "execution_count": 2,
   "metadata": {
    "ExecuteTime": {
     "end_time": "2021-05-29T23:11:37.965533Z",
     "start_time": "2021-05-29T23:11:37.329766Z"
    }
   },
   "outputs": [],
   "source": [
    "prices_df = pd.read_csv('data/prices_formatted.csv')\n",
    "prices_df['description'] = prices_df.apply(lambda df: f'{df.local_time} - Price: {df.mid:,.2f}', axis=1)"
   ]
  },
  {
   "cell_type": "code",
   "execution_count": 3,
   "metadata": {
    "ExecuteTime": {
     "end_time": "2021-05-29T23:11:38.000343Z",
     "start_time": "2021-05-29T23:11:37.967693Z"
    }
   },
   "outputs": [],
   "source": [
    "tweets_df = pd.read_csv('data/tweets_formatted.csv')\n",
    "tweets_df['tweet'] = tweets_df.apply(lambda df: f'{df.num_coins:,} coins (${df.usd_value:,}) {df.description}', axis=1)\n",
    "\n",
    "def _color(usd_value):\n",
    "    if usd_value >= 100000000:\n",
    "        return 'lightgreen'\n",
    "    elif usd_value >= 50000000:\n",
    "        return 'lightblue'\n",
    "    else:\n",
    "        return 'yellow'\n",
    "tweets_df['color'] = tweets_df['usd_value'].apply(_color)"
   ]
  },
  {
   "cell_type": "code",
   "execution_count": 4,
   "metadata": {
    "ExecuteTime": {
     "end_time": "2021-05-29T23:11:38.008824Z",
     "start_time": "2021-05-29T23:11:38.002178Z"
    }
   },
   "outputs": [],
   "source": [
    "def get_price_fig(prices_df):\n",
    "    return px.line(prices_df, \n",
    "                    x='unix_time', \n",
    "                    y='mid',\n",
    "                    hover_name='description',\n",
    "                    color_discrete_sequence=['rgb(57,118,175)'])\n",
    "\n",
    "def get_tweet_fig(tweets_df, price_min, price_max):\n",
    "    # Add markers with hover text at the top and bottom of the figure so you can read the tweet\n",
    "    def _get_tweet_markers(y_pos):\n",
    "        return go.Figure(go.Scatter(x=tweets_df['unix_time'],\n",
    "                                    y=[y_pos for _ in range(tweets_df.shape[0])],\n",
    "                                    mode='markers',\n",
    "                                    marker_color=tweets_df['color'],\n",
    "                                    text=tweets_df['tweet']))\n",
    "    tweet_fig = go.Figure(_get_tweet_markers(price_min).data + _get_tweet_markers(price_max).data)\n",
    "    \n",
    "    return tweet_fig\n",
    "    \n",
    "def add_tweet_lines(tweets_df, fig):\n",
    "    # Add vertical lines for each tweet\n",
    "    for (_, (tweet, unix_time, color)) in tweets_df[['tweet', 'unix_time', 'color']].iterrows():\n",
    "        fig.add_vline(x=unix_time, line_color=color)\n",
    "    \n",
    "    return fig\n",
    "\n",
    "def add_legend(fig, xmin, xmax, ymin, ymax):\n",
    "\n",
    "    spacing = (ymax - ymin) / 16\n",
    "    x = [xmax, xmax, xmax]\n",
    "    y = [ymin + (spacing * 2), ymin + spacing, ymin]\n",
    "    \n",
    "    fig.add_trace(go.Scatter(\n",
    "        x=x,\n",
    "        y=y,\n",
    "        mode=\"markers+text\",\n",
    "        name=\"Markers and Text\",\n",
    "        text=[\" >$100M\", \" >$50M\", \" <$50M\"],\n",
    "        marker_color=['lightgreen', 'lightblue', 'yellow'],\n",
    "        textposition=\"middle right\"\n",
    "    ))\n",
    "    return fig"
   ]
  },
  {
   "cell_type": "code",
   "execution_count": 7,
   "metadata": {
    "ExecuteTime": {
     "end_time": "2021-05-29T23:11:53.367521Z",
     "start_time": "2021-05-29T23:11:53.359765Z"
    }
   },
   "outputs": [],
   "source": [
    "def get_all_plots(prices_df, tweets_df, asset):\n",
    "    \n",
    "    plots = []\n",
    "    \n",
    "    prices_df = prices_df[(prices_df.asset == asset)]\n",
    "    tweets_df = tweets_df[(tweets_df.asset == asset)]\n",
    "    \n",
    "    # Slice the price window into smaller plots\n",
    "    slices = 7\n",
    "    window_size = (prices_df.shape[0] // slices) + 1\n",
    "    \n",
    "    for i in range(slices):\n",
    "        start = i * window_size\n",
    "        end = (i + 1) * window_size \n",
    "        \n",
    "        price_window_df = prices_df[start:end]\n",
    "        \n",
    "        start_time, end_time = (price_window_df['unix_time'].min(), price_window_df['unix_time'].max())\n",
    "        filter_tweet_cond = (\n",
    "            (tweets_df['unix_time'] >= start_time)\n",
    "            & (tweets_df['unix_time'] <= end_time)\n",
    "        )\n",
    "        tweet_window_df = tweets_df[filter_tweet_cond]\n",
    "    \n",
    "        price_fig = get_price_fig(price_window_df)\n",
    "\n",
    "        price_min = price_window_df['mid'].min()\n",
    "        price_max = price_window_df['mid'].max()\n",
    "\n",
    "        tweet_fig = get_tweet_fig(tweet_window_df, price_min, price_max)\n",
    "\n",
    "        fig = go.Figure(tweet_fig.data + price_fig.data)\n",
    "        fig = add_tweet_lines(tweet_window_df, fig)\n",
    "\n",
    "        start_time_string = datetime.fromtimestamp(start_time).strftime(\"%Y-%m-%d %I:%M:%S %p\")\n",
    "        end_time_string = datetime.fromtimestamp(end_time).strftime(\"%Y-%m-%d %I:%M:%S %p\")\n",
    "\n",
    "        fig.update_layout(\n",
    "            title=f'{asset} - Prices and Whale Alerts by Time - {start_time_string} to {end_time_string}',\n",
    "            xaxis_title=\"Time\",\n",
    "            yaxis_title=\"Price\",\n",
    "            showlegend=False\n",
    "        )\n",
    "        \n",
    "        fig = add_legend(fig, start_time, end_time, price_min, price_max)\n",
    "        \n",
    "        plots.append(fig)\n",
    "        \n",
    "    return plots"
   ]
  },
  {
   "cell_type": "code",
   "execution_count": 8,
   "metadata": {
    "ExecuteTime": {
     "end_time": "2021-05-29T23:11:56.459509Z",
     "start_time": "2021-05-29T23:11:53.493839Z"
    }
   },
   "outputs": [],
   "source": [
    "for asset in ['BTC', 'ETH', 'USDT']:\n",
    "    \n",
    "    if 'plots' not in os.listdir('.'):\n",
    "        os.mkdir('plots')\n",
    "    \n",
    "    file_path = f'plots/{asset}.html'\n",
    "    \n",
    "    with open(file_path, 'w') as f:\n",
    "        f.write(f'<h1>{asset}<h1>')\n",
    "        \n",
    "        for plot in get_all_plots(prices_df, tweets_df, 'BTC'):\n",
    "            f.write(plot.to_html())\n",
    "    "
   ]
  },
  {
   "cell_type": "code",
   "execution_count": null,
   "metadata": {},
   "outputs": [],
   "source": []
  }
 ],
 "metadata": {
  "kernelspec": {
   "display_name": "Remy (3.7)",
   "language": "python",
   "name": "remy_env"
  },
  "language_info": {
   "codemirror_mode": {
    "name": "ipython",
    "version": 3
   },
   "file_extension": ".py",
   "mimetype": "text/x-python",
   "name": "python",
   "nbconvert_exporter": "python",
   "pygments_lexer": "ipython3",
   "version": "3.7.10"
  },
  "toc": {
   "base_numbering": 1,
   "nav_menu": {},
   "number_sections": true,
   "sideBar": true,
   "skip_h1_title": false,
   "title_cell": "Table of Contents",
   "title_sidebar": "Contents",
   "toc_cell": false,
   "toc_position": {},
   "toc_section_display": true,
   "toc_window_display": false
  }
 },
 "nbformat": 4,
 "nbformat_minor": 2
}
