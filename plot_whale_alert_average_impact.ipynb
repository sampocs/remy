{
 "cells": [
  {
   "cell_type": "code",
   "execution_count": 25,
   "metadata": {
    "ExecuteTime": {
     "end_time": "2021-06-01T01:24:35.982427Z",
     "start_time": "2021-06-01T01:24:35.978334Z"
    }
   },
   "outputs": [
    {
     "data": {
      "text/html": [
       "<style>\n",
       "table {float:left}\n",
       "</style>\n"
      ],
      "text/plain": [
       "<IPython.core.display.HTML object>"
      ]
     },
     "metadata": {},
     "output_type": "display_data"
    }
   ],
   "source": [
    "%%html\n",
    "<style>\n",
    "table {float:left}\n",
    "</style>"
   ]
  },
  {
   "cell_type": "code",
   "execution_count": 26,
   "metadata": {
    "ExecuteTime": {
     "end_time": "2021-06-01T01:24:36.139388Z",
     "start_time": "2021-06-01T01:24:36.135258Z"
    }
   },
   "outputs": [],
   "source": [
    "import numpy as np\n",
    "import pandas as pd\n",
    "import plotly.express as px\n",
    "import plotly.graph_objects as go\n",
    "pd.set_option('display.max_rows', 1000)"
   ]
  },
  {
   "cell_type": "code",
   "execution_count": 27,
   "metadata": {
    "ExecuteTime": {
     "end_time": "2021-06-01T01:24:36.299959Z",
     "start_time": "2021-06-01T01:24:36.295721Z"
    }
   },
   "outputs": [],
   "source": [
    "STABLE_COINS   = ['USDT', 'USDC']\n",
    "UNSTABLE_COINS = ['BTC', 'ETH']\n",
    "JOIN_WINDOW_MINUTES = 30 \n",
    "DOLLAR_MIN = 100000000"
   ]
  },
  {
   "cell_type": "code",
   "execution_count": 28,
   "metadata": {
    "ExecuteTime": {
     "end_time": "2021-06-01T01:24:36.492514Z",
     "start_time": "2021-06-01T01:24:36.483081Z"
    }
   },
   "outputs": [],
   "source": [
    "def prep_prices_df(prices_df):\n",
    "    \"\"\"\n",
    "    Fiter to just unstable coins (BTC/ETH), and rename columns\n",
    "    \"\"\"\n",
    "    prices_df = prices_df[prices_df['asset'].isin(UNSTABLE_COINS)]\n",
    "        \n",
    "    prices_df = prices_df.rename(columns={\n",
    "        'mid': 'price', \n",
    "        'unix_time': 'price_time', \n",
    "        'asset': 'price_asset'\n",
    "    })\n",
    "    \n",
    "    prices_df = prices_df[['price_asset', 'price', 'price_time']]\n",
    "    \n",
    "    return prices_df\n",
    "\n",
    "def prep_tweets_df(tweets_df, dollar_min):\n",
    "    \"\"\"\n",
    "    Round tweet to nearest minute and filter for only transactions about {dollar_min} dollars\n",
    "    \"\"\"\n",
    "    def _round_to_minute(tweet_time):\n",
    "        sec_after_min = tweet_time % 60\n",
    "        return tweet_time - sec_after_min if sec_after_min <= 30 else tweet_time - sec_after_min + 60\n",
    "    \n",
    "    tweets_df['tweet_time'] = tweets_df['unix_time'].apply(_round_to_minute)\n",
    "    \n",
    "    tweets_df = tweets_df[(tweets_df['usd_value'] >= dollar_min)]\n",
    "    \n",
    "    tweets_df = tweets_df.rename(columns={'asset': 'tweet_asset'})\n",
    "    \n",
    "    return tweets_df"
   ]
  },
  {
   "cell_type": "code",
   "execution_count": 29,
   "metadata": {
    "ExecuteTime": {
     "end_time": "2021-06-01T01:24:36.681009Z",
     "start_time": "2021-06-01T01:24:36.675763Z"
    }
   },
   "outputs": [],
   "source": [
    "def subset_tweets(tweets_df, transfer_type, coin_type, source, recipient):\n",
    "    \"\"\"\n",
    "    Filters the twitter dataframe to the given transfer type\n",
    "    \"\"\"\n",
    "            \n",
    "    is_stable_coin   = tweets_df['tweet_asset'].isin(STABLE_COINS)\n",
    "    is_unstable_coin = tweets_df['tweet_asset'].isin(UNSTABLE_COINS)\n",
    "    \n",
    "    coin_cond = is_stable_coin if coin_type == 'stable' else is_unstable_coin\n",
    "\n",
    "    transfer_type_col = tweets_df['transaction_type']\n",
    "    source_col        = tweets_df['transaction_source']\n",
    "    recipient_col     = tweets_df['transaction_recipient']\n",
    "    \n",
    "    # If it was a mint, all we need to filter for is the transaction type\n",
    "    if transfer_type == 'MINTED':\n",
    "        return tweets_df[(is_stable_coin) & (transfer_type_col == 'MINTED')]\n",
    "    \n",
    "    # Otherwise, filter on coin type, transfer type, source and recipient\n",
    "    else:\n",
    "        filter_stmt = (\n",
    "            (coin_cond) \n",
    "            & (transfer_type_col == transfer_type) \n",
    "            & (source_col == source) \n",
    "            & (recipient_col == recipient)\n",
    "        ) \n",
    "        return tweets_df[filter_stmt]"
   ]
  },
  {
   "cell_type": "code",
   "execution_count": 30,
   "metadata": {
    "ExecuteTime": {
     "end_time": "2021-06-01T01:24:36.843356Z",
     "start_time": "2021-06-01T01:24:36.838642Z"
    }
   },
   "outputs": [],
   "source": [
    "def join_tweets_and_prices(tweets_df, prices_df, coin_type):\n",
    "    \"\"\"\n",
    "    Joins prices within {JOIN_WINDOW_MINUTES} of the tweet\n",
    "    \"\"\"\n",
    "    \n",
    "    # We'll take the cartesian product for the join and then filter\n",
    "    df = tweets_df.merge(prices_df, how='cross')\n",
    "\n",
    "    # For the plots from unstable coin tweets, \n",
    "    #  we'll only want to plot the price change for the corresponding coin\n",
    "    #  i.e. we only want to plot BTC price changes from BTC tweets\n",
    "    #\n",
    "    # For plots about stable coins, we'll plot both BTC and ETH\n",
    "    if coin_type == 'unstable':\n",
    "        df = df[(df['tweet_asset'] == df['price_asset'])]\n",
    "\n",
    "    # Filter to just prices within the specified time window of the tweet \n",
    "    time_filter = (\n",
    "        (df['price_time'] >= (df['tweet_time'] - (JOIN_WINDOW_MINUTES * 60)))\n",
    "        & (df['price_time'] <= (df['tweet_time'] + (JOIN_WINDOW_MINUTES * 60)))\n",
    "    )\n",
    "\n",
    "    df = df[time_filter]\n",
    "        \n",
    "    return df"
   ]
  },
  {
   "cell_type": "code",
   "execution_count": 31,
   "metadata": {
    "ExecuteTime": {
     "end_time": "2021-06-01T01:24:37.004700Z",
     "start_time": "2021-06-01T01:24:36.998251Z"
    }
   },
   "outputs": [],
   "source": [
    "def get_average_price_change(df):\n",
    "    \"\"\"\n",
    "    Get the weighted average price change at each minute interval surrounding the tweet\n",
    "    \"\"\"\n",
    "    # Get time difference between tweet and price in minutes\n",
    "    df['time_delta'] = ((df['price_time'] - df['tweet_time']) / 60).astype('int')\n",
    "    \n",
    "    # Get a dataframe with just the starting prices\n",
    "    start_prices_df = df[df['time_delta'] == 0]\n",
    "    start_prices_df = start_prices_df.rename(columns={'price': 'start_price'})\n",
    "    start_prices_df = start_prices_df[['price_asset', 'start_price', 'tweet_time']]\n",
    "    \n",
    "    # Join the t=0 price back to the original dataframe\n",
    "    df = df.merge(start_prices_df, how='inner', on=['tweet_time', 'price_asset'])\n",
    "    \n",
    "    # Calculate percent price change\n",
    "    df['price_change'] = ((df['price'] - df['start_price']) / df['start_price']) * 100\n",
    "    \n",
    "    # Get the weighted average price change\n",
    "    # Weighted by transaction size in dollars\n",
    "    df = (df\n",
    "          .groupby(['price_asset', 'time_delta'])\n",
    "          .apply(lambda df: np.average(df['price_change'], weights=df['usd_value']))\n",
    "          .reset_index(name='average_price_change'))\n",
    "    \n",
    "    return df"
   ]
  },
  {
   "cell_type": "code",
   "execution_count": 32,
   "metadata": {
    "ExecuteTime": {
     "end_time": "2021-06-01T01:24:37.298686Z",
     "start_time": "2021-06-01T01:24:37.290971Z"
    }
   },
   "outputs": [],
   "source": [
    "def get_price_plots(df, title):\n",
    "    \"\"\"\n",
    "    Returns a plot of the average price change for both BTC and ETH surrounding a whale alert\n",
    "    Input dataframe has 1 record per asset/time_delta combination\n",
    "    \"\"\"\n",
    "    figs = []\n",
    "        \n",
    "    for asset in UNSTABLE_COINS:\n",
    "        \n",
    "        asset_df = df[df['price_asset'] == asset]\n",
    "        \n",
    "        rolling_window = 4\n",
    "        rolling_name = f'{rolling_window}_min_rolling_average'\n",
    "        asset_df = asset_df.assign(\n",
    "            rolling=asset_df['average_price_change'].rolling(rolling_window).mean().shift(-1 * (rolling_window // 2))\n",
    "        )\n",
    "        asset_df = asset_df.rename(columns={'rolling': rolling_name})\n",
    "        \n",
    "        fig = px.line(asset_df, \n",
    "                      x='time_delta', \n",
    "                      y=['average_price_change', rolling_name] , \n",
    "                      color_discrete_sequence=['rgba(57,118,175, 0.2)', 'rgb(57,118,175)'],\n",
    "                      title=title.format(asset))\n",
    "\n",
    "        fig.add_vline(x=0, line_color='lightgrey', line_width=3)\n",
    "        fig.add_hline(y=0, line_color='lightgrey', line_width=3)\n",
    "        \n",
    "        fig.update_layout(yaxis_range=[-2, 2])\n",
    "        fig.update_yaxes(tickvals=list(np.linspace(-2, 2, 9)))\n",
    "        \n",
    "        fig.update_layout(height=400, width=1200)\n",
    "        \n",
    "        figs.append(fig)\n",
    "    \n",
    "    return figs"
   ]
  },
  {
   "cell_type": "code",
   "execution_count": 33,
   "metadata": {
    "ExecuteTime": {
     "end_time": "2021-06-01T01:24:37.699567Z",
     "start_time": "2021-06-01T01:24:37.695597Z"
    }
   },
   "outputs": [],
   "source": [
    "def get_plot_title(transfer_type, tweet_coin_type, source, recipient, num_tweets):\n",
    "\n",
    "    def _get_non_mint_event():\n",
    "        coins = STABLE_COINS if tweet_coin_type == 'stable' else UNSTABLE_COINS\n",
    "        coins_str = '/'.join(coins)\n",
    "        \n",
    "        return f'Transfer of <b>{coins_str}</b> from <b>{source.capitalize()}</b> to <b>{recipient.capitalize()}</b>'\n",
    "\n",
    "    event = 'USDC/USDT Minting' if transfer_type == 'MINTED' else _get_non_mint_event()\n",
    "        \n",
    "    title = f'Weighted Price Change of <b>{{}}</b> surrounding {event} <br>'\n",
    "    title += f'Composed of {num_tweets} tweets'\n",
    "    \n",
    "    return title\n",
    "    "
   ]
  },
  {
   "cell_type": "markdown",
   "metadata": {
    "ExecuteTime": {
     "end_time": "2021-05-31T18:22:56.132956Z",
     "start_time": "2021-05-31T18:22:56.126866Z"
    }
   },
   "source": [
    "| Direction          |     Option Name    | Event                                        |\n",
    "|--------------------|:-------------------|:---------------------------------------------|\n",
    "| **Minting**        |       `mint`       | USDT/USDC Minting                            |\n",
    "| **Bullish**        | `mint_to_exchange` | USDT/USDC Transfer from treasury to exchange |\n",
    "| **Bullish**        |    `sell_stable`   | USDT/USDC Transfer from wallet to exchange   |\n",
    "| **Bearish**        | `sell_unstable`    | BTC/ETH Transfer from wallet to exchange     |"
   ]
  },
  {
   "cell_type": "code",
   "execution_count": 34,
   "metadata": {
    "ExecuteTime": {
     "end_time": "2021-06-01T01:24:41.005425Z",
     "start_time": "2021-06-01T01:24:38.562942Z"
    },
    "scrolled": false
   },
   "outputs": [],
   "source": [
    "prices_df = pd.read_csv('data/prices_formatted.csv')\n",
    "tweets_df = pd.read_csv('data/tweets_formatted.csv')\n",
    "\n",
    "tweets_df = prep_tweets_df(tweets_df, DOLLAR_MIN)\n",
    "prices_df = prep_prices_df(prices_df)\n",
    "\n",
    "plots = [\n",
    "    ('Minting',                               'MINTED',   'stable',   None,        None),\n",
    "    ('Bullish - Stable Treasury to Exchange', 'TRANSFER', 'stable',   'TREASURY', 'EXCHANGE'),\n",
    "    ('Bullish - Stable Wallet to Exchange',   'TRANSFER', 'stable',   'WALLET',   'EXCHANGE'),\n",
    "    ('Bearish - BTC/ETH Wallet to Exchange',  'TRANSFER', 'unstable', 'WALLET',   'EXCHANGE'),\n",
    "]\n",
    "\n",
    "plot_file = 'plots/average_price_impact.html'        \n",
    "html_file = open(plot_file, 'w')\n",
    "\n",
    "heading = f'Weighted Average Price Change Surrounding Whale Alerts - ${DOLLAR_MIN:,} Minimum'\n",
    "html_file.write(f'<h1 style=\"font-family:arial\">{heading}<h1>')\n",
    "\n",
    "figs = []\n",
    "for (direction, transfer_type, tweet_coin_type, source, recipient) in plots:\n",
    "    \n",
    "    html_file.write(f'<h2 style=\"font-family:arial\">{direction}<h2>')\n",
    "    \n",
    "    example_tweet_df = subset_tweets(tweets_df, transfer_type, tweet_coin_type, source, recipient)\n",
    "    num_tweets = example_tweet_df.shape[0]\n",
    "    \n",
    "    joined_df = join_tweets_and_prices(example_tweet_df, prices_df, tweet_coin_type)\n",
    "    joined_df = get_average_price_change(joined_df)\n",
    "    \n",
    "    title = get_plot_title(transfer_type, tweet_coin_type, source, recipient, num_tweets)\n",
    "    \n",
    "    [html_file.write(fig.to_html()) for fig in get_price_plots(joined_df, title)]\n",
    "     \n",
    "\n",
    "html_file.close()"
   ]
  },
  {
   "cell_type": "code",
   "execution_count": null,
   "metadata": {},
   "outputs": [],
   "source": []
  },
  {
   "cell_type": "code",
   "execution_count": null,
   "metadata": {},
   "outputs": [],
   "source": []
  }
 ],
 "metadata": {
  "kernelspec": {
   "display_name": "Remy (3.7)",
   "language": "python",
   "name": "remy_env"
  },
  "language_info": {
   "codemirror_mode": {
    "name": "ipython",
    "version": 3
   },
   "file_extension": ".py",
   "mimetype": "text/x-python",
   "name": "python",
   "nbconvert_exporter": "python",
   "pygments_lexer": "ipython3",
   "version": "3.7.10"
  },
  "toc": {
   "base_numbering": 1,
   "nav_menu": {},
   "number_sections": true,
   "sideBar": true,
   "skip_h1_title": false,
   "title_cell": "Table of Contents",
   "title_sidebar": "Contents",
   "toc_cell": false,
   "toc_position": {},
   "toc_section_display": true,
   "toc_window_display": false
  }
 },
 "nbformat": 4,
 "nbformat_minor": 2
}
