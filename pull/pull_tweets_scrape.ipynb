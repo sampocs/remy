{
 "cells": [
  {
   "cell_type": "code",
   "execution_count": 22,
   "metadata": {
    "ExecuteTime": {
     "end_time": "2021-06-10T04:01:15.017032Z",
     "start_time": "2021-06-10T04:01:15.013933Z"
    }
   },
   "outputs": [],
   "source": [
    "import time\n",
    "import json\n",
    "from datetime import timedelta\n",
    "from bs4 import BeautifulSoup\n",
    "import asyncio\n",
    "from aiohttp import ClientSession\n",
    "from asyncio.locks import Semaphore\n",
    "from typing import List"
   ]
  },
  {
   "cell_type": "code",
   "execution_count": 23,
   "metadata": {
    "ExecuteTime": {
     "end_time": "2021-06-10T04:01:15.208034Z",
     "start_time": "2021-06-10T04:01:15.205613Z"
    }
   },
   "outputs": [],
   "source": [
    "TELEGRAM_BASE_URL = 'https://t.me/s/whale_alert_io'\n",
    "TWEETS_PER_PAGE = 20"
   ]
  },
  {
   "cell_type": "code",
   "execution_count": 3,
   "metadata": {
    "ExecuteTime": {
     "end_time": "2021-06-10T02:12:05.606024Z",
     "start_time": "2021-06-10T02:12:05.600866Z"
    }
   },
   "outputs": [],
   "source": [
    "def get_transaction_link(tweet):\n",
    "    return [link.get('href') \n",
    "            for link in tweet.find_all('a') \n",
    "            if link.get('href').startswith('https://whale-alert.io/transaction')]\n",
    "    \n",
    "def scrape_tweets(tweet_num: int, session: ):\n",
    "    page = requests.get(f'{TELEGRAM_BASE_URL}?before={tweet_num}')\n",
    "    html = page.content\n",
    "    soup = BeautifulSoup(html, 'html.parser')\n",
    "    \n",
    "    tweets = soup.find_all(\"div\", {\"class\": \"tgme_widget_message_text\"})\n",
    "    data = [\n",
    "        {\n",
    "            'text': tweet.text, \n",
    "            'links': get_transaction_link(tweet)\n",
    "        }\n",
    "        for tweet in tweets\n",
    "    ]\n",
    "    \n",
    "    return data"
   ]
  },
  {
   "cell_type": "code",
   "execution_count": 4,
   "metadata": {
    "ExecuteTime": {
     "end_time": "2021-06-10T02:12:08.261190Z",
     "start_time": "2021-06-10T02:12:08.258743Z"
    }
   },
   "outputs": [],
   "source": [
    "tweet_num = 32\n",
    "end_tweet_num = 41839"
   ]
  },
  {
   "cell_type": "code",
   "execution_count": 5,
   "metadata": {
    "ExecuteTime": {
     "end_time": "2021-06-10T02:29:28.227501Z",
     "start_time": "2021-06-10T02:12:09.622146Z"
    }
   },
   "outputs": [],
   "source": [
    "data = []\n",
    "while tweet_num < end_tweet_num:\n",
    "    data += scrape_tweets(tweet_num)\n",
    "    tweet_num += 20"
   ]
  },
  {
   "cell_type": "code",
   "execution_count": 6,
   "metadata": {
    "ExecuteTime": {
     "end_time": "2021-06-10T02:29:28.237827Z",
     "start_time": "2021-06-10T02:29:28.229409Z"
    }
   },
   "outputs": [
    {
     "data": {
      "text/plain": [
       "41823"
      ]
     },
     "execution_count": 6,
     "metadata": {},
     "output_type": "execute_result"
    }
   ],
   "source": [
    "len(data)"
   ]
  },
  {
   "cell_type": "code",
   "execution_count": 11,
   "metadata": {
    "ExecuteTime": {
     "end_time": "2021-06-10T02:32:27.741963Z",
     "start_time": "2021-06-10T02:32:27.693453Z"
    }
   },
   "outputs": [],
   "source": [
    "# Remove tweets that weren't transactions\n",
    "data = [{'text': tweet['text'], 'link': tweet['links'][0]} \n",
    "        for tweet in data \n",
    "        if len(tweet['links']) == 1 and tweet['text'].count('Details') == 1]"
   ]
  },
  {
   "cell_type": "code",
   "execution_count": 12,
   "metadata": {
    "ExecuteTime": {
     "end_time": "2021-06-10T02:32:28.801052Z",
     "start_time": "2021-06-10T02:32:28.797145Z"
    }
   },
   "outputs": [
    {
     "data": {
      "text/plain": [
       "41776"
      ]
     },
     "execution_count": 12,
     "metadata": {},
     "output_type": "execute_result"
    }
   ],
   "source": [
    "len(data)"
   ]
  },
  {
   "cell_type": "code",
   "execution_count": 13,
   "metadata": {
    "ExecuteTime": {
     "end_time": "2021-06-10T02:32:33.684831Z",
     "start_time": "2021-06-10T02:32:33.492854Z"
    }
   },
   "outputs": [],
   "source": [
    "with open('../data/tweets_scrape_raw.json', 'w') as f:\n",
    "    f.write(json.dumps({'data': data}, indent=True))"
   ]
  },
  {
   "cell_type": "code",
   "execution_count": null,
   "metadata": {},
   "outputs": [],
   "source": []
  }
 ],
 "metadata": {
  "kernelspec": {
   "display_name": "Remy (3.7)",
   "language": "python",
   "name": "remy_env"
  },
  "language_info": {
   "codemirror_mode": {
    "name": "ipython",
    "version": 3
   },
   "file_extension": ".py",
   "mimetype": "text/x-python",
   "name": "python",
   "nbconvert_exporter": "python",
   "pygments_lexer": "ipython3",
   "version": "3.7.10"
  },
  "toc": {
   "base_numbering": 1,
   "nav_menu": {},
   "number_sections": true,
   "sideBar": true,
   "skip_h1_title": false,
   "title_cell": "Table of Contents",
   "title_sidebar": "Contents",
   "toc_cell": false,
   "toc_position": {},
   "toc_section_display": true,
   "toc_window_display": false
  }
 },
 "nbformat": 4,
 "nbformat_minor": 2
}