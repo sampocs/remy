{
 "cells": [
  {
   "cell_type": "code",
   "execution_count": 1,
   "metadata": {
    "ExecuteTime": {
     "end_time": "2021-06-27T02:24:43.441322Z",
     "start_time": "2021-06-27T02:24:43.430250Z"
    }
   },
   "outputs": [
    {
     "data": {
      "text/html": [
       "<style>\n",
       "table {float:left}\n",
       "</style>\n"
      ],
      "text/plain": [
       "<IPython.core.display.HTML object>"
      ]
     },
     "metadata": {},
     "output_type": "display_data"
    }
   ],
   "source": [
    "%%html\n",
    "<style>\n",
    "table {float:left}\n",
    "</style>"
   ]
  },
  {
   "cell_type": "code",
   "execution_count": 2,
   "metadata": {
    "ExecuteTime": {
     "end_time": "2021-06-27T02:24:44.367555Z",
     "start_time": "2021-06-27T02:24:43.637936Z"
    }
   },
   "outputs": [],
   "source": [
    "import numpy as np\n",
    "import pandas as pd\n",
    "import random\n",
    "import plotly.express as px\n",
    "import plotly.graph_objects as go\n",
    "pd.set_option('display.max_rows', 1000)"
   ]
  },
  {
   "cell_type": "code",
   "execution_count": 3,
   "metadata": {
    "ExecuteTime": {
     "end_time": "2021-06-27T02:24:45.925231Z",
     "start_time": "2021-06-27T02:24:45.922925Z"
    }
   },
   "outputs": [],
   "source": [
    "# Run individually with 100M, 150M, 200M, 250M, 300M, 400M\n",
    "DOLLAR_MIN = 200000000"
   ]
  },
  {
   "cell_type": "code",
   "execution_count": 4,
   "metadata": {
    "ExecuteTime": {
     "end_time": "2021-06-27T02:24:46.232994Z",
     "start_time": "2021-06-27T02:24:46.229585Z"
    }
   },
   "outputs": [],
   "source": [
    "STABLE_COINS   = ['USDT', 'USDC']\n",
    "UNSTABLE_COINS = ['BTC', 'ETH']\n",
    "JOIN_WINDOW_MINUTES = 30 \n",
    "PLOT_SPAGHETTI = True\n",
    "\n",
    "spaghetti_suffix = '_spaghetti' if PLOT_SPAGHETTI else ''\n",
    "dollar_suffix = int(DOLLAR_MIN / 1e6)\n",
    "PLOT_FILE_NAME = f'average_price_impact_{dollar_suffix}M{spaghetti_suffix}.html'"
   ]
  },
  {
   "cell_type": "code",
   "execution_count": 5,
   "metadata": {
    "ExecuteTime": {
     "end_time": "2021-06-27T02:24:46.402942Z",
     "start_time": "2021-06-27T02:24:46.397785Z"
    }
   },
   "outputs": [],
   "source": [
    "def prep_prices_df(prices_df):\n",
    "    \"\"\"\n",
    "    Fiter to just unstable coins (BTC/ETH), and rename columns\n",
    "    \"\"\"        \n",
    "    prices_df = prices_df.rename(columns={\n",
    "        'mid': 'price', \n",
    "        'unix_time': 'price_time', \n",
    "        'asset': 'price_asset'\n",
    "    })\n",
    "    \n",
    "    prices_df = prices_df[['price_asset', 'price', 'price_time']]\n",
    "    \n",
    "    return prices_df\n",
    "\n",
    "def prep_tweets_df(tweets_df, dollar_min):\n",
    "    \"\"\"\n",
    "    Round tweet to nearest minute and filter for only transactions about {dollar_min} dollars\n",
    "    \"\"\"\n",
    "    def _round_to_minute(tweet_time):\n",
    "        sec_after_min = tweet_time % 60\n",
    "        return tweet_time - sec_after_min if sec_after_min <= 30 else tweet_time - sec_after_min + 60\n",
    "    \n",
    "    tweets_df['tweet_time'] = tweets_df['unix_time'].apply(_round_to_minute)\n",
    "    \n",
    "    tweets_df = tweets_df[(tweets_df['usd_value'] >= dollar_min)]\n",
    "    \n",
    "    tweets_df = tweets_df.rename(columns={'asset': 'tweet_asset'})\n",
    "    \n",
    "    return tweets_df"
   ]
  },
  {
   "cell_type": "code",
   "execution_count": 6,
   "metadata": {
    "ExecuteTime": {
     "end_time": "2021-06-27T02:24:46.555874Z",
     "start_time": "2021-06-27T02:24:46.550725Z"
    }
   },
   "outputs": [],
   "source": [
    "def subset_tweets(tweets_df, transfer_type, coin_type, source, recipient):\n",
    "    \"\"\"\n",
    "    Filters the twitter dataframe to the given transfer type\n",
    "    \"\"\"\n",
    "            \n",
    "    is_stable_coin   = tweets_df['tweet_asset'].isin(STABLE_COINS)\n",
    "    is_unstable_coin = tweets_df['tweet_asset'].isin(UNSTABLE_COINS)\n",
    "    \n",
    "    coin_cond = is_stable_coin if coin_type == 'stable' else is_unstable_coin\n",
    "\n",
    "    transfer_type_col = tweets_df['transaction_type']\n",
    "    source_col        = tweets_df['transaction_source']\n",
    "    recipient_col     = tweets_df['transaction_recipient']\n",
    "    \n",
    "    # If it was a mint, all we need to filter for is the transaction type\n",
    "    if transfer_type == 'MINTED':\n",
    "        return tweets_df[(is_stable_coin) & (transfer_type_col == 'MINTED')]\n",
    "    \n",
    "    # Otherwise, filter on coin type, transfer type, source and recipient\n",
    "    else:\n",
    "        filter_stmt = (\n",
    "            (coin_cond) \n",
    "            & (transfer_type_col == transfer_type) \n",
    "            & (source_col == source) \n",
    "            & (recipient_col == recipient)\n",
    "        ) \n",
    "        return tweets_df[filter_stmt]"
   ]
  },
  {
   "cell_type": "code",
   "execution_count": 7,
   "metadata": {
    "ExecuteTime": {
     "end_time": "2021-06-27T02:24:46.702160Z",
     "start_time": "2021-06-27T02:24:46.697963Z"
    }
   },
   "outputs": [],
   "source": [
    "def join_tweets_and_prices(tweets_df, prices_df, coin_type):\n",
    "    \"\"\"\n",
    "    Joins prices within {JOIN_WINDOW_MINUTES} of the tweet\n",
    "    \"\"\"\n",
    "    \n",
    "    # We'll take the cartesian product for the join and then filter\n",
    "    df = tweets_df.merge(prices_df, how='cross')\n",
    "\n",
    "    # For the plots from unstable coin tweets, \n",
    "    #  we'll only want to plot the price change for the corresponding coin\n",
    "    #  i.e. we only want to plot BTC price changes from BTC tweets\n",
    "    #\n",
    "    # For plots about stable coins, we'll plot both BTC and ETH\n",
    "    if coin_type == 'unstable':\n",
    "        df = df[(df['tweet_asset'] == df['price_asset'])]\n",
    "\n",
    "    # Filter to just prices within the specified time window of the tweet \n",
    "    time_filter = (\n",
    "        (df['price_time'] >= (df['tweet_time'] - (JOIN_WINDOW_MINUTES * 60)))\n",
    "        & (df['price_time'] <= (df['tweet_time'] + (JOIN_WINDOW_MINUTES * 60)))\n",
    "    )\n",
    "\n",
    "    df = df[time_filter]\n",
    "        \n",
    "    return df"
   ]
  },
  {
   "cell_type": "code",
   "execution_count": 8,
   "metadata": {
    "ExecuteTime": {
     "end_time": "2021-06-27T02:24:47.201482Z",
     "start_time": "2021-06-27T02:24:47.196224Z"
    }
   },
   "outputs": [],
   "source": [
    "def get_price_changes(df):\n",
    "    \"\"\"\n",
    "    Get price change at each minute interval surrounding the tweet\n",
    "    \"\"\"\n",
    "    # Get time difference between tweet and price in minutes\n",
    "    df['time_delta'] = ((df['price_time'] - df['tweet_time']) / 60).astype('int')\n",
    "    \n",
    "    # Get a dataframe with just the starting prices\n",
    "    start_prices_df = df[df['time_delta'] == 0]\n",
    "    start_prices_df = start_prices_df.rename(columns={'price': 'start_price'})\n",
    "    start_prices_df = start_prices_df[['price_asset', 'start_price', 'tweet_time']]\n",
    "    \n",
    "    # Join the t=0 price back to the original dataframe\n",
    "    df = df.merge(start_prices_df, how='inner', on=['tweet_time', 'price_asset'])\n",
    "    \n",
    "    # Calculate percent price change\n",
    "    df['price_change'] = ((df['price'] - df['start_price']) / df['start_price']) * 100\n",
    "        \n",
    "    return df\n",
    "\n",
    "def get_average_price_change(df):\n",
    "    \"\"\"\n",
    "    Get the weighted average price change\n",
    "    Weighted by transaction size in dollars\n",
    "    \"\"\"\n",
    "    return (df\n",
    "            .groupby(['price_asset', 'time_delta'])\n",
    "            .apply(lambda df: np.average(df['price_change'], weights=df['usd_value']))\n",
    "            .reset_index(name='price_change'))"
   ]
  },
  {
   "cell_type": "code",
   "execution_count": 9,
   "metadata": {
    "ExecuteTime": {
     "end_time": "2021-06-27T02:24:47.993265Z",
     "start_time": "2021-06-27T02:24:47.983054Z"
    }
   },
   "outputs": [],
   "source": [
    "def get_price_plots(average_price_change_df, all_price_change_df, title, num_tweets, plot_spaghetti):\n",
    "    \"\"\"\n",
    "    Returns a plot of the average price change for both BTC and ETH surrounding a whale alert\n",
    "    Input dataframe has 1 record per asset/time_delta combination\n",
    "    \"\"\"\n",
    "    dark_color = 'rgb(57,118,175)'\n",
    "    light_color = 'rgba(57,118,175, 0.2)'\n",
    "    \n",
    "    figs = []\n",
    "        \n",
    "    for asset in UNSTABLE_COINS:\n",
    "        \n",
    "        num_tweets_asset = num_tweets[asset] if isinstance(num_tweets, dict) else num_tweets\n",
    "        \n",
    "        asset_avg_df = average_price_change_df[average_price_change_df['price_asset'] == asset]\n",
    "        asset_all_df = all_price_change_df[all_price_change_df['price_asset'] == asset]\n",
    "                        \n",
    "        rolling_window = 4\n",
    "        rolling_name = f'{rolling_window}_min_rolling_average'\n",
    "        \n",
    "        asset_avg_df = asset_avg_df.assign(\n",
    "            rolling=asset_avg_df['price_change'].rolling(rolling_window).mean().shift(-1 * (rolling_window // 2))\n",
    "        )\n",
    "        asset_avg_df = asset_avg_df.rename(columns={'rolling': rolling_name})\n",
    "        \n",
    "        fig = None\n",
    "        if plot_spaghetti:\n",
    "            asset_avg_df = asset_avg_df[['time_delta', rolling_name]]\n",
    "            \n",
    "            asset_all_df = asset_all_df.pivot_table(index='time_delta', columns='tweet_time', values='price_change')\n",
    "            asset_all_df = asset_all_df.reset_index()\n",
    "            tweet_times = [c for c in asset_all_df.columns if c != 'time_delta']\n",
    "\n",
    "            asset_all_df = asset_all_df.merge(asset_avg_df, on='time_delta', how='inner')\n",
    "            \n",
    "            fig = px.line(asset_all_df, \n",
    "                          x='time_delta', \n",
    "                          y=[rolling_name, *tweet_times] , \n",
    "                          color_discrete_sequence=[dark_color, *[light_color for _ in tweet_times]],\n",
    "                          title=title.format(asset, num_tweets_asset))\n",
    "            \n",
    "            fig.update_layout(showlegend=False)\n",
    "\n",
    "        else:\n",
    "            fig = px.line(asset_avg_df, \n",
    "                          x='time_delta', \n",
    "                          y=['price_change', rolling_name] , \n",
    "                          color_discrete_sequence=[light_color, dark_color],\n",
    "                          title=title.format(asset, num_tweets_asset))\n",
    "            \n",
    "        fig.add_vline(x=0, line_color='lightgrey', line_width=3)\n",
    "        fig.add_hline(y=0, line_color='lightgrey', line_width=3)\n",
    "        \n",
    "        fig.update_layout(yaxis_range=[-1, 1])\n",
    "        fig.update_yaxes(tickvals=list(np.linspace(-1, 1, 5)))\n",
    "        \n",
    "        fig.update_layout(height=400, width=1200)\n",
    "        \n",
    "        figs.append(fig)\n",
    "    \n",
    "    return figs"
   ]
  },
  {
   "cell_type": "code",
   "execution_count": 10,
   "metadata": {
    "ExecuteTime": {
     "end_time": "2021-06-27T02:24:48.554505Z",
     "start_time": "2021-06-27T02:24:48.550471Z"
    }
   },
   "outputs": [],
   "source": [
    "def get_plot_title(transfer_type, tweet_coin_type, source, recipient):\n",
    "\n",
    "    def _get_non_mint_event():\n",
    "        coins = STABLE_COINS if tweet_coin_type == 'stable' else UNSTABLE_COINS\n",
    "        coins_str = '/'.join(coins)\n",
    "        \n",
    "        return f'Transfer of <b>{coins_str}</b> from <b>{source.capitalize()}</b> to <b>{recipient.capitalize()}</b>'\n",
    "\n",
    "    event = 'USDC/USDT Minting' if transfer_type == 'MINTED' else _get_non_mint_event()\n",
    "        \n",
    "    title = f'Weighted Price Change of <b>{{}}</b> surrounding {event} <br>'\n",
    "    title += f'Composed of {{}} tweets'\n",
    "    \n",
    "    return title\n",
    "    "
   ]
  },
  {
   "cell_type": "code",
   "execution_count": 13,
   "metadata": {
    "ExecuteTime": {
     "end_time": "2021-06-27T02:26:01.640622Z",
     "start_time": "2021-06-27T02:26:01.636748Z"
    }
   },
   "outputs": [],
   "source": [
    "def get_random_tweet_df(num_tweets, lower_bound, upper_bound):\n",
    "    \"\"\"\n",
    "    Creates a dummy tweets dataframe with random times to test the typical trend\n",
    "    \"\"\"    \n",
    "    # Add a buffer so there's enough room for prices\n",
    "    # Divide by 60 and remove decimal so there are minute increments\n",
    "    start_minute = (lower_bound + 7200) // 60\n",
    "    end_minutes = (upper_bound - 7200) // 60\n",
    "    \n",
    "    return pd.DataFrame({\n",
    "        'tweet_time': [random.randint(start_minute, end_minutes) * 60 for _ in range(num_tweets)],\n",
    "        'usd_value': [1 for _ in range(num_tweets)]\n",
    "    })"
   ]
  },
  {
   "cell_type": "markdown",
   "metadata": {
    "ExecuteTime": {
     "end_time": "2021-05-31T18:22:56.132956Z",
     "start_time": "2021-05-31T18:22:56.126866Z"
    }
   },
   "source": [
    "| Direction          |     Option Name    | Event                                        |\n",
    "|--------------------|:-------------------|:---------------------------------------------|\n",
    "| **Minting**        |       `mint`       | USDT/USDC Minting                            |\n",
    "| **Bullish**        | `mint_to_exchange` | USDT/USDC Transfer from treasury to exchange |\n",
    "| **Bullish**        |    `sell_stable`   | USDT/USDC Transfer from wallet to exchange   |\n",
    "| **Bearish**        | `sell_unstable`    | BTC/ETH Transfer from wallet to exchange     |"
   ]
  },
  {
   "cell_type": "code",
   "execution_count": 12,
   "metadata": {
    "ExecuteTime": {
     "end_time": "2021-06-27T02:24:54.964118Z",
     "start_time": "2021-06-27T02:24:52.029463Z"
    }
   },
   "outputs": [],
   "source": [
    "prices_df = pd.read_csv('../data/prices_formatted.csv')\n",
    "tweets_df = pd.read_csv('../data/tweets_formatted.csv')\n",
    "\n",
    "tweets_df = prep_tweets_df(tweets_df, DOLLAR_MIN)\n",
    "prices_df = prep_prices_df(prices_df)"
   ]
  },
  {
   "cell_type": "markdown",
   "metadata": {},
   "source": [
    "## Event Plots"
   ]
  },
  {
   "cell_type": "code",
   "execution_count": 96,
   "metadata": {
    "ExecuteTime": {
     "end_time": "2021-06-27T02:06:38.389230Z",
     "start_time": "2021-06-27T02:05:12.948584Z"
    }
   },
   "outputs": [],
   "source": [
    "plots = [\n",
    "#     ('Minting',                               'MINTED',   'stable',   None,        None),\n",
    "#     ('Bullish - Stable Treasury to Exchange', 'TRANSFER', 'stable',   'TREASURY', 'EXCHANGE'),\n",
    "    ('Bullish - Stable Wallet to Exchange',   'TRANSFER', 'stable',   'WALLET',   'EXCHANGE'),\n",
    "    ('Bearish - BTC/ETH Wallet to Exchange',  'TRANSFER', 'unstable', 'WALLET',   'EXCHANGE'),\n",
    "]\n",
    "\n",
    "plot_file = f'../plots/{PLOT_FILE_NAME}'        \n",
    "html_file = open(plot_file, 'w')\n",
    "\n",
    "heading = f'Weighted Average Price Change Surrounding Whale Alerts - ${DOLLAR_MIN:,} Minimum'\n",
    "html_file.write(f'<h1 style=\"font-family:arial\">{heading}<h1>')\n",
    "\n",
    "figs = []\n",
    "for (direction, transfer_type, tweet_coin_type, source, recipient) in plots:\n",
    "    \n",
    "    html_file.write(f'<h2 style=\"font-family:arial\">{direction}<h2>')\n",
    "    \n",
    "    example_tweet_df = subset_tweets(tweets_df, transfer_type, tweet_coin_type, source, recipient)\n",
    "    \n",
    "    # Get the number of tweets - if plotting stable coins, we take the total number of tweets\n",
    "    # If plotting unstable coins, split out the count for each coin\n",
    "    num_tweets = example_tweet_df.shape[0]\n",
    "    if tweet_coin_type == 'unstable':\n",
    "        num_tweets = {\n",
    "            coin: example_tweet_df[example_tweet_df.tweet_asset == coin].shape[0]\n",
    "            for coin in UNSTABLE_COINS\n",
    "        }\n",
    "    \n",
    "    joined_df = join_tweets_and_prices(example_tweet_df, prices_df, tweet_coin_type)\n",
    "    all_price_change_df = get_price_changes(joined_df)\n",
    "    \n",
    "    average_price_change_df = get_average_price_change(all_price_change_df)\n",
    "        \n",
    "    title = get_plot_title(transfer_type, tweet_coin_type, source, recipient)\n",
    "    \n",
    "    [html_file.write(fig.to_html()) \n",
    "     for fig in get_price_plots(average_price_change_df, all_price_change_df, title, num_tweets, PLOT_SPAGHETTI)]\n",
    "     \n",
    "html_file.close()"
   ]
  },
  {
   "cell_type": "markdown",
   "metadata": {},
   "source": [
    "## Baseline Plots"
   ]
  },
  {
   "cell_type": "code",
   "execution_count": 17,
   "metadata": {
    "ExecuteTime": {
     "end_time": "2021-06-27T02:31:37.043576Z",
     "start_time": "2021-06-27T02:29:41.217075Z"
    }
   },
   "outputs": [],
   "source": [
    "for num_fake_tweets in [20, 50, 100]:\n",
    "    plot_file = f'../plots/average_price_impact_baseline_{num_fake_tweets}_tweets.html'\n",
    "    html_file = open(plot_file, 'w')\n",
    "\n",
    "    heading = f'Weighted Average Price Change Surrounding {num_fake_tweets} Random Points in Time'\n",
    "    html_file.write(f'<h1 style=\"font-family:arial\">{heading}<h1>')\n",
    "\n",
    "    lower_bound_time = prices_df['price_time'].min()\n",
    "    upper_bound_time = prices_df['price_time'].max()\n",
    "    random_tweet_df = get_random_tweet_df(num_fake_tweets, lower_bound_time, upper_bound_time)\n",
    "\n",
    "    joined_df = join_tweets_and_prices(random_tweet_df, prices_df, 'stable')\n",
    "\n",
    "    all_price_change_df = get_price_changes(joined_df)\n",
    "    average_price_change_df = get_average_price_change(all_price_change_df)\n",
    "\n",
    "    title = f'Price Change of <b>{{}}</b>'\n",
    "\n",
    "    [html_file.write(fig.to_html()) \n",
    "     for fig in get_price_plots(average_price_change_df, all_price_change_df, title, num_fake_tweets, False)]\n",
    "\n",
    "    html_file.close()"
   ]
  },
  {
   "cell_type": "code",
   "execution_count": null,
   "metadata": {},
   "outputs": [],
   "source": []
  },
  {
   "cell_type": "code",
   "execution_count": 19,
   "metadata": {
    "ExecuteTime": {
     "end_time": "2021-06-27T02:34:46.318315Z",
     "start_time": "2021-06-27T02:34:46.252299Z"
    }
   },
   "outputs": [
    {
     "data": {
      "application/vnd.plotly.v1+json": {
       "config": {
        "plotlyServerURL": "https://plot.ly"
       },
       "data": [
        {
         "hovertemplate": "tweet_time=%{x}<br>y=%{y}<extra></extra>",
         "legendgroup": "",
         "marker": {
          "color": "#636efa",
          "symbol": "circle"
         },
         "mode": "markers",
         "name": "",
         "orientation": "v",
         "showlegend": false,
         "type": "scatter",
         "x": [
          1613445120,
          1618836480,
          1580732220,
          1573184400,
          1580972700,
          1620335880,
          1559590860,
          1613397960,
          1579970700,
          1591418520,
          1599465840,
          1597609800,
          1612019460,
          1598242080,
          1579601820,
          1555496100,
          1612502700,
          1603303620,
          1610872080,
          1594567200,
          1607379060,
          1605605640,
          1560779460,
          1561618860,
          1601971800,
          1580670120,
          1577454120,
          1568396160,
          1577819520,
          1612013040,
          1575652020,
          1581244260,
          1575820800,
          1618473360,
          1554399360,
          1555933440,
          1596382620,
          1607251920,
          1616131380,
          1556906220,
          1555470120,
          1565186400,
          1571018220,
          1602956880,
          1600106880,
          1598543460,
          1594502220,
          1560337500,
          1569366060,
          1611784440,
          1577141520,
          1565298900,
          1581368580,
          1589422680,
          1608558480,
          1567091160,
          1618604280,
          1578978480,
          1567043940,
          1586229960,
          1556129400,
          1619712180,
          1572565560,
          1588706580,
          1555839120,
          1587474780,
          1614192180,
          1610716860,
          1615189560,
          1615301580,
          1597757100,
          1620988800,
          1591876620,
          1606117260,
          1592929680,
          1602529020,
          1613007840,
          1605261420,
          1609338780,
          1600417440,
          1562371740,
          1562209080,
          1572886440,
          1567568280,
          1579867920,
          1614020160,
          1565156280,
          1572984420,
          1560419340,
          1559811120,
          1595048460,
          1605664980,
          1555157820,
          1576252620,
          1568387580,
          1606836660,
          1573081620,
          1600064640,
          1570596300,
          1610319480
         ],
         "xaxis": "x",
         "y": [
          0,
          0,
          0,
          0,
          0,
          0,
          0,
          0,
          0,
          0,
          0,
          0,
          0,
          0,
          0,
          0,
          0,
          0,
          0,
          0,
          0,
          0,
          0,
          0,
          0,
          0,
          0,
          0,
          0,
          0,
          0,
          0,
          0,
          0,
          0,
          0,
          0,
          0,
          0,
          0,
          0,
          0,
          0,
          0,
          0,
          0,
          0,
          0,
          0,
          0,
          0,
          0,
          0,
          0,
          0,
          0,
          0,
          0,
          0,
          0,
          0,
          0,
          0,
          0,
          0,
          0,
          0,
          0,
          0,
          0,
          0,
          0,
          0,
          0,
          0,
          0,
          0,
          0,
          0,
          0,
          0,
          0,
          0,
          0,
          0,
          0,
          0,
          0,
          0,
          0,
          0,
          0,
          0,
          0,
          0,
          0,
          0,
          0,
          0,
          0
         ],
         "yaxis": "y"
        }
       ],
       "layout": {
        "legend": {
         "tracegroupgap": 0
        },
        "margin": {
         "t": 60
        },
        "template": {
         "data": {
          "bar": [
           {
            "error_x": {
             "color": "#2a3f5f"
            },
            "error_y": {
             "color": "#2a3f5f"
            },
            "marker": {
             "line": {
              "color": "#E5ECF6",
              "width": 0.5
             }
            },
            "type": "bar"
           }
          ],
          "barpolar": [
           {
            "marker": {
             "line": {
              "color": "#E5ECF6",
              "width": 0.5
             }
            },
            "type": "barpolar"
           }
          ],
          "carpet": [
           {
            "aaxis": {
             "endlinecolor": "#2a3f5f",
             "gridcolor": "white",
             "linecolor": "white",
             "minorgridcolor": "white",
             "startlinecolor": "#2a3f5f"
            },
            "baxis": {
             "endlinecolor": "#2a3f5f",
             "gridcolor": "white",
             "linecolor": "white",
             "minorgridcolor": "white",
             "startlinecolor": "#2a3f5f"
            },
            "type": "carpet"
           }
          ],
          "choropleth": [
           {
            "colorbar": {
             "outlinewidth": 0,
             "ticks": ""
            },
            "type": "choropleth"
           }
          ],
          "contour": [
           {
            "colorbar": {
             "outlinewidth": 0,
             "ticks": ""
            },
            "colorscale": [
             [
              0,
              "#0d0887"
             ],
             [
              0.1111111111111111,
              "#46039f"
             ],
             [
              0.2222222222222222,
              "#7201a8"
             ],
             [
              0.3333333333333333,
              "#9c179e"
             ],
             [
              0.4444444444444444,
              "#bd3786"
             ],
             [
              0.5555555555555556,
              "#d8576b"
             ],
             [
              0.6666666666666666,
              "#ed7953"
             ],
             [
              0.7777777777777778,
              "#fb9f3a"
             ],
             [
              0.8888888888888888,
              "#fdca26"
             ],
             [
              1,
              "#f0f921"
             ]
            ],
            "type": "contour"
           }
          ],
          "contourcarpet": [
           {
            "colorbar": {
             "outlinewidth": 0,
             "ticks": ""
            },
            "type": "contourcarpet"
           }
          ],
          "heatmap": [
           {
            "colorbar": {
             "outlinewidth": 0,
             "ticks": ""
            },
            "colorscale": [
             [
              0,
              "#0d0887"
             ],
             [
              0.1111111111111111,
              "#46039f"
             ],
             [
              0.2222222222222222,
              "#7201a8"
             ],
             [
              0.3333333333333333,
              "#9c179e"
             ],
             [
              0.4444444444444444,
              "#bd3786"
             ],
             [
              0.5555555555555556,
              "#d8576b"
             ],
             [
              0.6666666666666666,
              "#ed7953"
             ],
             [
              0.7777777777777778,
              "#fb9f3a"
             ],
             [
              0.8888888888888888,
              "#fdca26"
             ],
             [
              1,
              "#f0f921"
             ]
            ],
            "type": "heatmap"
           }
          ],
          "heatmapgl": [
           {
            "colorbar": {
             "outlinewidth": 0,
             "ticks": ""
            },
            "colorscale": [
             [
              0,
              "#0d0887"
             ],
             [
              0.1111111111111111,
              "#46039f"
             ],
             [
              0.2222222222222222,
              "#7201a8"
             ],
             [
              0.3333333333333333,
              "#9c179e"
             ],
             [
              0.4444444444444444,
              "#bd3786"
             ],
             [
              0.5555555555555556,
              "#d8576b"
             ],
             [
              0.6666666666666666,
              "#ed7953"
             ],
             [
              0.7777777777777778,
              "#fb9f3a"
             ],
             [
              0.8888888888888888,
              "#fdca26"
             ],
             [
              1,
              "#f0f921"
             ]
            ],
            "type": "heatmapgl"
           }
          ],
          "histogram": [
           {
            "marker": {
             "colorbar": {
              "outlinewidth": 0,
              "ticks": ""
             }
            },
            "type": "histogram"
           }
          ],
          "histogram2d": [
           {
            "colorbar": {
             "outlinewidth": 0,
             "ticks": ""
            },
            "colorscale": [
             [
              0,
              "#0d0887"
             ],
             [
              0.1111111111111111,
              "#46039f"
             ],
             [
              0.2222222222222222,
              "#7201a8"
             ],
             [
              0.3333333333333333,
              "#9c179e"
             ],
             [
              0.4444444444444444,
              "#bd3786"
             ],
             [
              0.5555555555555556,
              "#d8576b"
             ],
             [
              0.6666666666666666,
              "#ed7953"
             ],
             [
              0.7777777777777778,
              "#fb9f3a"
             ],
             [
              0.8888888888888888,
              "#fdca26"
             ],
             [
              1,
              "#f0f921"
             ]
            ],
            "type": "histogram2d"
           }
          ],
          "histogram2dcontour": [
           {
            "colorbar": {
             "outlinewidth": 0,
             "ticks": ""
            },
            "colorscale": [
             [
              0,
              "#0d0887"
             ],
             [
              0.1111111111111111,
              "#46039f"
             ],
             [
              0.2222222222222222,
              "#7201a8"
             ],
             [
              0.3333333333333333,
              "#9c179e"
             ],
             [
              0.4444444444444444,
              "#bd3786"
             ],
             [
              0.5555555555555556,
              "#d8576b"
             ],
             [
              0.6666666666666666,
              "#ed7953"
             ],
             [
              0.7777777777777778,
              "#fb9f3a"
             ],
             [
              0.8888888888888888,
              "#fdca26"
             ],
             [
              1,
              "#f0f921"
             ]
            ],
            "type": "histogram2dcontour"
           }
          ],
          "mesh3d": [
           {
            "colorbar": {
             "outlinewidth": 0,
             "ticks": ""
            },
            "type": "mesh3d"
           }
          ],
          "parcoords": [
           {
            "line": {
             "colorbar": {
              "outlinewidth": 0,
              "ticks": ""
             }
            },
            "type": "parcoords"
           }
          ],
          "pie": [
           {
            "automargin": true,
            "type": "pie"
           }
          ],
          "scatter": [
           {
            "marker": {
             "colorbar": {
              "outlinewidth": 0,
              "ticks": ""
             }
            },
            "type": "scatter"
           }
          ],
          "scatter3d": [
           {
            "line": {
             "colorbar": {
              "outlinewidth": 0,
              "ticks": ""
             }
            },
            "marker": {
             "colorbar": {
              "outlinewidth": 0,
              "ticks": ""
             }
            },
            "type": "scatter3d"
           }
          ],
          "scattercarpet": [
           {
            "marker": {
             "colorbar": {
              "outlinewidth": 0,
              "ticks": ""
             }
            },
            "type": "scattercarpet"
           }
          ],
          "scattergeo": [
           {
            "marker": {
             "colorbar": {
              "outlinewidth": 0,
              "ticks": ""
             }
            },
            "type": "scattergeo"
           }
          ],
          "scattergl": [
           {
            "marker": {
             "colorbar": {
              "outlinewidth": 0,
              "ticks": ""
             }
            },
            "type": "scattergl"
           }
          ],
          "scattermapbox": [
           {
            "marker": {
             "colorbar": {
              "outlinewidth": 0,
              "ticks": ""
             }
            },
            "type": "scattermapbox"
           }
          ],
          "scatterpolar": [
           {
            "marker": {
             "colorbar": {
              "outlinewidth": 0,
              "ticks": ""
             }
            },
            "type": "scatterpolar"
           }
          ],
          "scatterpolargl": [
           {
            "marker": {
             "colorbar": {
              "outlinewidth": 0,
              "ticks": ""
             }
            },
            "type": "scatterpolargl"
           }
          ],
          "scatterternary": [
           {
            "marker": {
             "colorbar": {
              "outlinewidth": 0,
              "ticks": ""
             }
            },
            "type": "scatterternary"
           }
          ],
          "surface": [
           {
            "colorbar": {
             "outlinewidth": 0,
             "ticks": ""
            },
            "colorscale": [
             [
              0,
              "#0d0887"
             ],
             [
              0.1111111111111111,
              "#46039f"
             ],
             [
              0.2222222222222222,
              "#7201a8"
             ],
             [
              0.3333333333333333,
              "#9c179e"
             ],
             [
              0.4444444444444444,
              "#bd3786"
             ],
             [
              0.5555555555555556,
              "#d8576b"
             ],
             [
              0.6666666666666666,
              "#ed7953"
             ],
             [
              0.7777777777777778,
              "#fb9f3a"
             ],
             [
              0.8888888888888888,
              "#fdca26"
             ],
             [
              1,
              "#f0f921"
             ]
            ],
            "type": "surface"
           }
          ],
          "table": [
           {
            "cells": {
             "fill": {
              "color": "#EBF0F8"
             },
             "line": {
              "color": "white"
             }
            },
            "header": {
             "fill": {
              "color": "#C8D4E3"
             },
             "line": {
              "color": "white"
             }
            },
            "type": "table"
           }
          ]
         },
         "layout": {
          "annotationdefaults": {
           "arrowcolor": "#2a3f5f",
           "arrowhead": 0,
           "arrowwidth": 1
          },
          "autotypenumbers": "strict",
          "coloraxis": {
           "colorbar": {
            "outlinewidth": 0,
            "ticks": ""
           }
          },
          "colorscale": {
           "diverging": [
            [
             0,
             "#8e0152"
            ],
            [
             0.1,
             "#c51b7d"
            ],
            [
             0.2,
             "#de77ae"
            ],
            [
             0.3,
             "#f1b6da"
            ],
            [
             0.4,
             "#fde0ef"
            ],
            [
             0.5,
             "#f7f7f7"
            ],
            [
             0.6,
             "#e6f5d0"
            ],
            [
             0.7,
             "#b8e186"
            ],
            [
             0.8,
             "#7fbc41"
            ],
            [
             0.9,
             "#4d9221"
            ],
            [
             1,
             "#276419"
            ]
           ],
           "sequential": [
            [
             0,
             "#0d0887"
            ],
            [
             0.1111111111111111,
             "#46039f"
            ],
            [
             0.2222222222222222,
             "#7201a8"
            ],
            [
             0.3333333333333333,
             "#9c179e"
            ],
            [
             0.4444444444444444,
             "#bd3786"
            ],
            [
             0.5555555555555556,
             "#d8576b"
            ],
            [
             0.6666666666666666,
             "#ed7953"
            ],
            [
             0.7777777777777778,
             "#fb9f3a"
            ],
            [
             0.8888888888888888,
             "#fdca26"
            ],
            [
             1,
             "#f0f921"
            ]
           ],
           "sequentialminus": [
            [
             0,
             "#0d0887"
            ],
            [
             0.1111111111111111,
             "#46039f"
            ],
            [
             0.2222222222222222,
             "#7201a8"
            ],
            [
             0.3333333333333333,
             "#9c179e"
            ],
            [
             0.4444444444444444,
             "#bd3786"
            ],
            [
             0.5555555555555556,
             "#d8576b"
            ],
            [
             0.6666666666666666,
             "#ed7953"
            ],
            [
             0.7777777777777778,
             "#fb9f3a"
            ],
            [
             0.8888888888888888,
             "#fdca26"
            ],
            [
             1,
             "#f0f921"
            ]
           ]
          },
          "colorway": [
           "#636efa",
           "#EF553B",
           "#00cc96",
           "#ab63fa",
           "#FFA15A",
           "#19d3f3",
           "#FF6692",
           "#B6E880",
           "#FF97FF",
           "#FECB52"
          ],
          "font": {
           "color": "#2a3f5f"
          },
          "geo": {
           "bgcolor": "white",
           "lakecolor": "white",
           "landcolor": "#E5ECF6",
           "showlakes": true,
           "showland": true,
           "subunitcolor": "white"
          },
          "hoverlabel": {
           "align": "left"
          },
          "hovermode": "closest",
          "mapbox": {
           "style": "light"
          },
          "paper_bgcolor": "white",
          "plot_bgcolor": "#E5ECF6",
          "polar": {
           "angularaxis": {
            "gridcolor": "white",
            "linecolor": "white",
            "ticks": ""
           },
           "bgcolor": "#E5ECF6",
           "radialaxis": {
            "gridcolor": "white",
            "linecolor": "white",
            "ticks": ""
           }
          },
          "scene": {
           "xaxis": {
            "backgroundcolor": "#E5ECF6",
            "gridcolor": "white",
            "gridwidth": 2,
            "linecolor": "white",
            "showbackground": true,
            "ticks": "",
            "zerolinecolor": "white"
           },
           "yaxis": {
            "backgroundcolor": "#E5ECF6",
            "gridcolor": "white",
            "gridwidth": 2,
            "linecolor": "white",
            "showbackground": true,
            "ticks": "",
            "zerolinecolor": "white"
           },
           "zaxis": {
            "backgroundcolor": "#E5ECF6",
            "gridcolor": "white",
            "gridwidth": 2,
            "linecolor": "white",
            "showbackground": true,
            "ticks": "",
            "zerolinecolor": "white"
           }
          },
          "shapedefaults": {
           "line": {
            "color": "#2a3f5f"
           }
          },
          "ternary": {
           "aaxis": {
            "gridcolor": "white",
            "linecolor": "white",
            "ticks": ""
           },
           "baxis": {
            "gridcolor": "white",
            "linecolor": "white",
            "ticks": ""
           },
           "bgcolor": "#E5ECF6",
           "caxis": {
            "gridcolor": "white",
            "linecolor": "white",
            "ticks": ""
           }
          },
          "title": {
           "x": 0.05
          },
          "xaxis": {
           "automargin": true,
           "gridcolor": "white",
           "linecolor": "white",
           "ticks": "",
           "title": {
            "standoff": 15
           },
           "zerolinecolor": "white",
           "zerolinewidth": 2
          },
          "yaxis": {
           "automargin": true,
           "gridcolor": "white",
           "linecolor": "white",
           "ticks": "",
           "title": {
            "standoff": 15
           },
           "zerolinecolor": "white",
           "zerolinewidth": 2
          }
         }
        },
        "xaxis": {
         "anchor": "y",
         "domain": [
          0,
          1
         ],
         "title": {
          "text": "tweet_time"
         }
        },
        "yaxis": {
         "anchor": "x",
         "domain": [
          0,
          1
         ],
         "title": {
          "text": "y"
         }
        }
       }
      },
      "text/html": [
       "<div>                            <div id=\"d140fff6-3022-4d0b-aa3b-b5f7969ecc3b\" class=\"plotly-graph-div\" style=\"height:525px; width:100%;\"></div>            <script type=\"text/javascript\">                require([\"plotly\"], function(Plotly) {                    window.PLOTLYENV=window.PLOTLYENV || {};                                    if (document.getElementById(\"d140fff6-3022-4d0b-aa3b-b5f7969ecc3b\")) {                    Plotly.newPlot(                        \"d140fff6-3022-4d0b-aa3b-b5f7969ecc3b\",                        [{\"hovertemplate\": \"tweet_time=%{x}<br>y=%{y}<extra></extra>\", \"legendgroup\": \"\", \"marker\": {\"color\": \"#636efa\", \"symbol\": \"circle\"}, \"mode\": \"markers\", \"name\": \"\", \"orientation\": \"v\", \"showlegend\": false, \"type\": \"scatter\", \"x\": [1613445120, 1618836480, 1580732220, 1573184400, 1580972700, 1620335880, 1559590860, 1613397960, 1579970700, 1591418520, 1599465840, 1597609800, 1612019460, 1598242080, 1579601820, 1555496100, 1612502700, 1603303620, 1610872080, 1594567200, 1607379060, 1605605640, 1560779460, 1561618860, 1601971800, 1580670120, 1577454120, 1568396160, 1577819520, 1612013040, 1575652020, 1581244260, 1575820800, 1618473360, 1554399360, 1555933440, 1596382620, 1607251920, 1616131380, 1556906220, 1555470120, 1565186400, 1571018220, 1602956880, 1600106880, 1598543460, 1594502220, 1560337500, 1569366060, 1611784440, 1577141520, 1565298900, 1581368580, 1589422680, 1608558480, 1567091160, 1618604280, 1578978480, 1567043940, 1586229960, 1556129400, 1619712180, 1572565560, 1588706580, 1555839120, 1587474780, 1614192180, 1610716860, 1615189560, 1615301580, 1597757100, 1620988800, 1591876620, 1606117260, 1592929680, 1602529020, 1613007840, 1605261420, 1609338780, 1600417440, 1562371740, 1562209080, 1572886440, 1567568280, 1579867920, 1614020160, 1565156280, 1572984420, 1560419340, 1559811120, 1595048460, 1605664980, 1555157820, 1576252620, 1568387580, 1606836660, 1573081620, 1600064640, 1570596300, 1610319480], \"xaxis\": \"x\", \"y\": [0, 0, 0, 0, 0, 0, 0, 0, 0, 0, 0, 0, 0, 0, 0, 0, 0, 0, 0, 0, 0, 0, 0, 0, 0, 0, 0, 0, 0, 0, 0, 0, 0, 0, 0, 0, 0, 0, 0, 0, 0, 0, 0, 0, 0, 0, 0, 0, 0, 0, 0, 0, 0, 0, 0, 0, 0, 0, 0, 0, 0, 0, 0, 0, 0, 0, 0, 0, 0, 0, 0, 0, 0, 0, 0, 0, 0, 0, 0, 0, 0, 0, 0, 0, 0, 0, 0, 0, 0, 0, 0, 0, 0, 0, 0, 0, 0, 0, 0, 0], \"yaxis\": \"y\"}],                        {\"legend\": {\"tracegroupgap\": 0}, \"margin\": {\"t\": 60}, \"template\": {\"data\": {\"bar\": [{\"error_x\": {\"color\": \"#2a3f5f\"}, \"error_y\": {\"color\": \"#2a3f5f\"}, \"marker\": {\"line\": {\"color\": \"#E5ECF6\", \"width\": 0.5}}, \"type\": \"bar\"}], \"barpolar\": [{\"marker\": {\"line\": {\"color\": \"#E5ECF6\", \"width\": 0.5}}, \"type\": \"barpolar\"}], \"carpet\": [{\"aaxis\": {\"endlinecolor\": \"#2a3f5f\", \"gridcolor\": \"white\", \"linecolor\": \"white\", \"minorgridcolor\": \"white\", \"startlinecolor\": \"#2a3f5f\"}, \"baxis\": {\"endlinecolor\": \"#2a3f5f\", \"gridcolor\": \"white\", \"linecolor\": \"white\", \"minorgridcolor\": \"white\", \"startlinecolor\": \"#2a3f5f\"}, \"type\": \"carpet\"}], \"choropleth\": [{\"colorbar\": {\"outlinewidth\": 0, \"ticks\": \"\"}, \"type\": \"choropleth\"}], \"contour\": [{\"colorbar\": {\"outlinewidth\": 0, \"ticks\": \"\"}, \"colorscale\": [[0.0, \"#0d0887\"], [0.1111111111111111, \"#46039f\"], [0.2222222222222222, \"#7201a8\"], [0.3333333333333333, \"#9c179e\"], [0.4444444444444444, \"#bd3786\"], [0.5555555555555556, \"#d8576b\"], [0.6666666666666666, \"#ed7953\"], [0.7777777777777778, \"#fb9f3a\"], [0.8888888888888888, \"#fdca26\"], [1.0, \"#f0f921\"]], \"type\": \"contour\"}], \"contourcarpet\": [{\"colorbar\": {\"outlinewidth\": 0, \"ticks\": \"\"}, \"type\": \"contourcarpet\"}], \"heatmap\": [{\"colorbar\": {\"outlinewidth\": 0, \"ticks\": \"\"}, \"colorscale\": [[0.0, \"#0d0887\"], [0.1111111111111111, \"#46039f\"], [0.2222222222222222, \"#7201a8\"], [0.3333333333333333, \"#9c179e\"], [0.4444444444444444, \"#bd3786\"], [0.5555555555555556, \"#d8576b\"], [0.6666666666666666, \"#ed7953\"], [0.7777777777777778, \"#fb9f3a\"], [0.8888888888888888, \"#fdca26\"], [1.0, \"#f0f921\"]], \"type\": \"heatmap\"}], \"heatmapgl\": [{\"colorbar\": {\"outlinewidth\": 0, \"ticks\": \"\"}, \"colorscale\": [[0.0, \"#0d0887\"], [0.1111111111111111, \"#46039f\"], [0.2222222222222222, \"#7201a8\"], [0.3333333333333333, \"#9c179e\"], [0.4444444444444444, \"#bd3786\"], [0.5555555555555556, \"#d8576b\"], [0.6666666666666666, \"#ed7953\"], [0.7777777777777778, \"#fb9f3a\"], [0.8888888888888888, \"#fdca26\"], [1.0, \"#f0f921\"]], \"type\": \"heatmapgl\"}], \"histogram\": [{\"marker\": {\"colorbar\": {\"outlinewidth\": 0, \"ticks\": \"\"}}, \"type\": \"histogram\"}], \"histogram2d\": [{\"colorbar\": {\"outlinewidth\": 0, \"ticks\": \"\"}, \"colorscale\": [[0.0, \"#0d0887\"], [0.1111111111111111, \"#46039f\"], [0.2222222222222222, \"#7201a8\"], [0.3333333333333333, \"#9c179e\"], [0.4444444444444444, \"#bd3786\"], [0.5555555555555556, \"#d8576b\"], [0.6666666666666666, \"#ed7953\"], [0.7777777777777778, \"#fb9f3a\"], [0.8888888888888888, \"#fdca26\"], [1.0, \"#f0f921\"]], \"type\": \"histogram2d\"}], \"histogram2dcontour\": [{\"colorbar\": {\"outlinewidth\": 0, \"ticks\": \"\"}, \"colorscale\": [[0.0, \"#0d0887\"], [0.1111111111111111, \"#46039f\"], [0.2222222222222222, \"#7201a8\"], [0.3333333333333333, \"#9c179e\"], [0.4444444444444444, \"#bd3786\"], [0.5555555555555556, \"#d8576b\"], [0.6666666666666666, \"#ed7953\"], [0.7777777777777778, \"#fb9f3a\"], [0.8888888888888888, \"#fdca26\"], [1.0, \"#f0f921\"]], \"type\": \"histogram2dcontour\"}], \"mesh3d\": [{\"colorbar\": {\"outlinewidth\": 0, \"ticks\": \"\"}, \"type\": \"mesh3d\"}], \"parcoords\": [{\"line\": {\"colorbar\": {\"outlinewidth\": 0, \"ticks\": \"\"}}, \"type\": \"parcoords\"}], \"pie\": [{\"automargin\": true, \"type\": \"pie\"}], \"scatter\": [{\"marker\": {\"colorbar\": {\"outlinewidth\": 0, \"ticks\": \"\"}}, \"type\": \"scatter\"}], \"scatter3d\": [{\"line\": {\"colorbar\": {\"outlinewidth\": 0, \"ticks\": \"\"}}, \"marker\": {\"colorbar\": {\"outlinewidth\": 0, \"ticks\": \"\"}}, \"type\": \"scatter3d\"}], \"scattercarpet\": [{\"marker\": {\"colorbar\": {\"outlinewidth\": 0, \"ticks\": \"\"}}, \"type\": \"scattercarpet\"}], \"scattergeo\": [{\"marker\": {\"colorbar\": {\"outlinewidth\": 0, \"ticks\": \"\"}}, \"type\": \"scattergeo\"}], \"scattergl\": [{\"marker\": {\"colorbar\": {\"outlinewidth\": 0, \"ticks\": \"\"}}, \"type\": \"scattergl\"}], \"scattermapbox\": [{\"marker\": {\"colorbar\": {\"outlinewidth\": 0, \"ticks\": \"\"}}, \"type\": \"scattermapbox\"}], \"scatterpolar\": [{\"marker\": {\"colorbar\": {\"outlinewidth\": 0, \"ticks\": \"\"}}, \"type\": \"scatterpolar\"}], \"scatterpolargl\": [{\"marker\": {\"colorbar\": {\"outlinewidth\": 0, \"ticks\": \"\"}}, \"type\": \"scatterpolargl\"}], \"scatterternary\": [{\"marker\": {\"colorbar\": {\"outlinewidth\": 0, \"ticks\": \"\"}}, \"type\": \"scatterternary\"}], \"surface\": [{\"colorbar\": {\"outlinewidth\": 0, \"ticks\": \"\"}, \"colorscale\": [[0.0, \"#0d0887\"], [0.1111111111111111, \"#46039f\"], [0.2222222222222222, \"#7201a8\"], [0.3333333333333333, \"#9c179e\"], [0.4444444444444444, \"#bd3786\"], [0.5555555555555556, \"#d8576b\"], [0.6666666666666666, \"#ed7953\"], [0.7777777777777778, \"#fb9f3a\"], [0.8888888888888888, \"#fdca26\"], [1.0, \"#f0f921\"]], \"type\": \"surface\"}], \"table\": [{\"cells\": {\"fill\": {\"color\": \"#EBF0F8\"}, \"line\": {\"color\": \"white\"}}, \"header\": {\"fill\": {\"color\": \"#C8D4E3\"}, \"line\": {\"color\": \"white\"}}, \"type\": \"table\"}]}, \"layout\": {\"annotationdefaults\": {\"arrowcolor\": \"#2a3f5f\", \"arrowhead\": 0, \"arrowwidth\": 1}, \"autotypenumbers\": \"strict\", \"coloraxis\": {\"colorbar\": {\"outlinewidth\": 0, \"ticks\": \"\"}}, \"colorscale\": {\"diverging\": [[0, \"#8e0152\"], [0.1, \"#c51b7d\"], [0.2, \"#de77ae\"], [0.3, \"#f1b6da\"], [0.4, \"#fde0ef\"], [0.5, \"#f7f7f7\"], [0.6, \"#e6f5d0\"], [0.7, \"#b8e186\"], [0.8, \"#7fbc41\"], [0.9, \"#4d9221\"], [1, \"#276419\"]], \"sequential\": [[0.0, \"#0d0887\"], [0.1111111111111111, \"#46039f\"], [0.2222222222222222, \"#7201a8\"], [0.3333333333333333, \"#9c179e\"], [0.4444444444444444, \"#bd3786\"], [0.5555555555555556, \"#d8576b\"], [0.6666666666666666, \"#ed7953\"], [0.7777777777777778, \"#fb9f3a\"], [0.8888888888888888, \"#fdca26\"], [1.0, \"#f0f921\"]], \"sequentialminus\": [[0.0, \"#0d0887\"], [0.1111111111111111, \"#46039f\"], [0.2222222222222222, \"#7201a8\"], [0.3333333333333333, \"#9c179e\"], [0.4444444444444444, \"#bd3786\"], [0.5555555555555556, \"#d8576b\"], [0.6666666666666666, \"#ed7953\"], [0.7777777777777778, \"#fb9f3a\"], [0.8888888888888888, \"#fdca26\"], [1.0, \"#f0f921\"]]}, \"colorway\": [\"#636efa\", \"#EF553B\", \"#00cc96\", \"#ab63fa\", \"#FFA15A\", \"#19d3f3\", \"#FF6692\", \"#B6E880\", \"#FF97FF\", \"#FECB52\"], \"font\": {\"color\": \"#2a3f5f\"}, \"geo\": {\"bgcolor\": \"white\", \"lakecolor\": \"white\", \"landcolor\": \"#E5ECF6\", \"showlakes\": true, \"showland\": true, \"subunitcolor\": \"white\"}, \"hoverlabel\": {\"align\": \"left\"}, \"hovermode\": \"closest\", \"mapbox\": {\"style\": \"light\"}, \"paper_bgcolor\": \"white\", \"plot_bgcolor\": \"#E5ECF6\", \"polar\": {\"angularaxis\": {\"gridcolor\": \"white\", \"linecolor\": \"white\", \"ticks\": \"\"}, \"bgcolor\": \"#E5ECF6\", \"radialaxis\": {\"gridcolor\": \"white\", \"linecolor\": \"white\", \"ticks\": \"\"}}, \"scene\": {\"xaxis\": {\"backgroundcolor\": \"#E5ECF6\", \"gridcolor\": \"white\", \"gridwidth\": 2, \"linecolor\": \"white\", \"showbackground\": true, \"ticks\": \"\", \"zerolinecolor\": \"white\"}, \"yaxis\": {\"backgroundcolor\": \"#E5ECF6\", \"gridcolor\": \"white\", \"gridwidth\": 2, \"linecolor\": \"white\", \"showbackground\": true, \"ticks\": \"\", \"zerolinecolor\": \"white\"}, \"zaxis\": {\"backgroundcolor\": \"#E5ECF6\", \"gridcolor\": \"white\", \"gridwidth\": 2, \"linecolor\": \"white\", \"showbackground\": true, \"ticks\": \"\", \"zerolinecolor\": \"white\"}}, \"shapedefaults\": {\"line\": {\"color\": \"#2a3f5f\"}}, \"ternary\": {\"aaxis\": {\"gridcolor\": \"white\", \"linecolor\": \"white\", \"ticks\": \"\"}, \"baxis\": {\"gridcolor\": \"white\", \"linecolor\": \"white\", \"ticks\": \"\"}, \"bgcolor\": \"#E5ECF6\", \"caxis\": {\"gridcolor\": \"white\", \"linecolor\": \"white\", \"ticks\": \"\"}}, \"title\": {\"x\": 0.05}, \"xaxis\": {\"automargin\": true, \"gridcolor\": \"white\", \"linecolor\": \"white\", \"ticks\": \"\", \"title\": {\"standoff\": 15}, \"zerolinecolor\": \"white\", \"zerolinewidth\": 2}, \"yaxis\": {\"automargin\": true, \"gridcolor\": \"white\", \"linecolor\": \"white\", \"ticks\": \"\", \"title\": {\"standoff\": 15}, \"zerolinecolor\": \"white\", \"zerolinewidth\": 2}}}, \"xaxis\": {\"anchor\": \"y\", \"domain\": [0.0, 1.0], \"title\": {\"text\": \"tweet_time\"}}, \"yaxis\": {\"anchor\": \"x\", \"domain\": [0.0, 1.0], \"title\": {\"text\": \"y\"}}},                        {\"responsive\": true}                    ).then(function(){\n",
       "                            \n",
       "var gd = document.getElementById('d140fff6-3022-4d0b-aa3b-b5f7969ecc3b');\n",
       "var x = new MutationObserver(function (mutations, observer) {{\n",
       "        var display = window.getComputedStyle(gd).display;\n",
       "        if (!display || display === 'none') {{\n",
       "            console.log([gd, 'removed!']);\n",
       "            Plotly.purge(gd);\n",
       "            observer.disconnect();\n",
       "        }}\n",
       "}});\n",
       "\n",
       "// Listen for the removal of the full notebook cells\n",
       "var notebookContainer = gd.closest('#notebook-container');\n",
       "if (notebookContainer) {{\n",
       "    x.observe(notebookContainer, {childList: true});\n",
       "}}\n",
       "\n",
       "// Listen for the clearing of the current output cell\n",
       "var outputEl = gd.closest('.output');\n",
       "if (outputEl) {{\n",
       "    x.observe(outputEl, {childList: true});\n",
       "}}\n",
       "\n",
       "                        })                };                });            </script>        </div>"
      ]
     },
     "metadata": {},
     "output_type": "display_data"
    }
   ],
   "source": [
    "# Confirm baseline was uniform\n",
    "px.scatter(random_tweet_df.assign(y=0), x='tweet_time', y='y')"
   ]
  },
  {
   "cell_type": "code",
   "execution_count": null,
   "metadata": {},
   "outputs": [],
   "source": []
  }
 ],
 "metadata": {
  "kernelspec": {
   "display_name": "Remy (3.7)",
   "language": "python",
   "name": "remy_env"
  },
  "language_info": {
   "codemirror_mode": {
    "name": "ipython",
    "version": 3
   },
   "file_extension": ".py",
   "mimetype": "text/x-python",
   "name": "python",
   "nbconvert_exporter": "python",
   "pygments_lexer": "ipython3",
   "version": "3.7.10"
  },
  "toc": {
   "base_numbering": 1,
   "nav_menu": {},
   "number_sections": true,
   "sideBar": true,
   "skip_h1_title": false,
   "title_cell": "Table of Contents",
   "title_sidebar": "Contents",
   "toc_cell": false,
   "toc_position": {},
   "toc_section_display": true,
   "toc_window_display": false
  }
 },
 "nbformat": 4,
 "nbformat_minor": 2
}
